{
 "cells": [
  {
   "cell_type": "code",
   "execution_count": 8,
   "id": "f91c0b05",
   "metadata": {},
   "outputs": [],
   "source": [
    "import random\n",
    "from random import randint"
   ]
  },
  {
   "cell_type": "code",
   "execution_count": 19,
   "id": "4a688a5c",
   "metadata": {
    "scrolled": true
   },
   "outputs": [
    {
     "name": "stdout",
     "output_type": "stream",
     "text": [
      "Выбор фильтров:\n",
      "Выбор типа: отель\n",
      "Выбор количества звезд:  2 звезды\n",
      "Выбор оценки по отзывам: Превосходно: 9+\n",
      "Выбор растояния: Меньше 5 км\n",
      "-----------------------\n",
      "Выбор отеля:\n",
      "Выбор сортировки: Звезды по возрастанию\n",
      "Выбор страницы: 26\n",
      "Выбор строки: 3\n"
     ]
    }
   ],
   "source": [
    "H_list = ['1 звезда', '2 звезды', '3 звезды', '4 звезды', '5 звезд', 'без звезд','не использовать фильтр' ]\n",
    "F_list = ['Превосходно: 9+', 'Очень хорошо: 8+', 'Хорошо: 7+', 'Достаточно хорошо: 6+', 'не использовать фильтр']\n",
    "L_list = ['Меньше 1 км', 'Меньше 3 км', 'Меньше 5 км', 'не использовать фильтр']\n",
    "print(\"Выбор фильтров:\")\n",
    "print(\"Выбор типа: отель\")\n",
    "print(\"Выбор количества звезд: \", random.choice(H_list))\n",
    "print(\"Выбор оценки по отзывам:\", random.choice(F_list))\n",
    "print(\"Выбор растояния:\", random.choice(L_list))\n",
    "print('-----------------------')\n",
    "\n",
    "B_list = ['Наши рекомендации', 'Звезды по убыванию', 'Звезды по возрастанию', 'Расстояние от центра', 'Оценка + кол-во отзывов', 'Расстояние до пляжа']\n",
    "print(\"Выбор отеля:\")\n",
    "print(\"Выбор сортировки:\", random.choice(B_list))\n",
    "print(\"Выбор страницы:\", randint(1, 40))\n",
    "print(\"Выбор строки:\", randint(1, 25))"
   ]
  }
 ],
 "metadata": {
  "kernelspec": {
   "display_name": "Python 3 (ipykernel)",
   "language": "python",
   "name": "python3"
  },
  "language_info": {
   "codemirror_mode": {
    "name": "ipython",
    "version": 3
   },
   "file_extension": ".py",
   "mimetype": "text/x-python",
   "name": "python",
   "nbconvert_exporter": "python",
   "pygments_lexer": "ipython3",
   "version": "3.9.12"
  }
 },
 "nbformat": 4,
 "nbformat_minor": 5
}
